{
 "cells": [
  {
   "cell_type": "markdown",
   "metadata": {},
   "source": [
    "# 1. Import Dependencies"
   ]
  },
  {
   "cell_type": "code",
   "execution_count": 1,
   "metadata": {},
   "outputs": [
    {
     "name": "stdout",
     "output_type": "stream",
     "text": [
      "Collecting opencv-python\n",
      "  Using cached opencv_python-4.9.0.80-cp37-abi3-win_amd64.whl.metadata (20 kB)\n",
      "Collecting numpy>=1.17.0 (from opencv-python)\n",
      "  Downloading numpy-1.24.4-cp38-cp38-win_amd64.whl.metadata (5.6 kB)\n",
      "Using cached opencv_python-4.9.0.80-cp37-abi3-win_amd64.whl (38.6 MB)\n",
      "Downloading numpy-1.24.4-cp38-cp38-win_amd64.whl (14.9 MB)\n",
      "   ---------------------------------------- 0.0/14.9 MB ? eta -:--:--\n",
      "   ---------------------------------------- 0.1/14.9 MB 2.0 MB/s eta 0:00:08\n",
      "   ---------------------------------------- 0.1/14.9 MB 2.0 MB/s eta 0:00:08\n",
      "   ---------------------------------------- 0.1/14.9 MB 2.0 MB/s eta 0:00:08\n",
      "   ---------------------------------------- 0.1/14.9 MB 2.0 MB/s eta 0:00:08\n",
      "    --------------------------------------- 0.2/14.9 MB 919.0 kB/s eta 0:00:16\n",
      "    --------------------------------------- 0.3/14.9 MB 1.1 MB/s eta 0:00:14\n",
      "    --------------------------------------- 0.3/14.9 MB 1.0 MB/s eta 0:00:15\n",
      "    --------------------------------------- 0.3/14.9 MB 1.0 MB/s eta 0:00:15\n",
      "    --------------------------------------- 0.3/14.9 MB 1.0 MB/s eta 0:00:15\n",
      "   - -------------------------------------- 0.4/14.9 MB 829.7 kB/s eta 0:00:18\n",
      "   - -------------------------------------- 0.5/14.9 MB 972.4 kB/s eta 0:00:15\n",
      "   - -------------------------------------- 0.5/14.9 MB 972.4 kB/s eta 0:00:15\n",
      "   - -------------------------------------- 0.5/14.9 MB 972.4 kB/s eta 0:00:15\n",
      "   - -------------------------------------- 0.5/14.9 MB 972.4 kB/s eta 0:00:15\n",
      "   - -------------------------------------- 0.7/14.9 MB 975.9 kB/s eta 0:00:15\n",
      "   -- ------------------------------------- 0.8/14.9 MB 1.1 MB/s eta 0:00:14\n",
      "   -- ------------------------------------- 0.8/14.9 MB 1.1 MB/s eta 0:00:14\n",
      "   -- ------------------------------------- 0.8/14.9 MB 1.1 MB/s eta 0:00:14\n",
      "   -- ------------------------------------- 0.8/14.9 MB 1.1 MB/s eta 0:00:14\n",
      "   -- ------------------------------------- 1.0/14.9 MB 1.0 MB/s eta 0:00:14\n",
      "   -- ------------------------------------- 1.1/14.9 MB 1.1 MB/s eta 0:00:13\n",
      "   -- ------------------------------------- 1.1/14.9 MB 1.1 MB/s eta 0:00:13\n",
      "   -- ------------------------------------- 1.1/14.9 MB 1.1 MB/s eta 0:00:13\n",
      "   --- ------------------------------------ 1.2/14.9 MB 1.1 MB/s eta 0:00:13\n",
      "   --- ------------------------------------ 1.3/14.9 MB 1.1 MB/s eta 0:00:13\n",
      "   --- ------------------------------------ 1.3/14.9 MB 1.1 MB/s eta 0:00:13\n",
      "   --- ------------------------------------ 1.3/14.9 MB 1.1 MB/s eta 0:00:13\n",
      "   --- ------------------------------------ 1.4/14.9 MB 1.0 MB/s eta 0:00:14\n",
      "   ---- ----------------------------------- 1.5/14.9 MB 1.1 MB/s eta 0:00:13\n",
      "   ---- ----------------------------------- 1.5/14.9 MB 1.1 MB/s eta 0:00:13\n",
      "   ---- ----------------------------------- 1.5/14.9 MB 1.1 MB/s eta 0:00:13\n",
      "   ---- ----------------------------------- 1.6/14.9 MB 954.7 kB/s eta 0:00:14\n",
      "   ---- ----------------------------------- 1.7/14.9 MB 988.8 kB/s eta 0:00:14\n",
      "   ---- ----------------------------------- 1.7/14.9 MB 988.8 kB/s eta 0:00:14\n",
      "   ---- ----------------------------------- 1.7/14.9 MB 988.8 kB/s eta 0:00:14\n",
      "   ---- ----------------------------------- 1.7/14.9 MB 988.8 kB/s eta 0:00:14\n",
      "   ---- ----------------------------------- 1.7/14.9 MB 908.9 kB/s eta 0:00:15\n",
      "   ---- ----------------------------------- 1.7/14.9 MB 895.1 kB/s eta 0:00:15\n",
      "   ---- ----------------------------------- 1.7/14.9 MB 895.1 kB/s eta 0:00:15\n",
      "   ---- ----------------------------------- 1.7/14.9 MB 895.1 kB/s eta 0:00:15\n",
      "   ---- ----------------------------------- 1.7/14.9 MB 895.1 kB/s eta 0:00:15\n",
      "   ---- ----------------------------------- 1.8/14.9 MB 850.2 kB/s eta 0:00:16\n",
      "   ----- ---------------------------------- 1.9/14.9 MB 869.2 kB/s eta 0:00:15\n",
      "   ----- ---------------------------------- 2.0/14.9 MB 901.1 kB/s eta 0:00:15\n",
      "   ------ --------------------------------- 2.4/14.9 MB 1.0 MB/s eta 0:00:13\n",
      "   ------- -------------------------------- 2.9/14.9 MB 1.2 MB/s eta 0:00:10\n",
      "   -------- ------------------------------- 3.3/14.9 MB 1.4 MB/s eta 0:00:09\n",
      "   --------- ------------------------------ 3.6/14.9 MB 1.5 MB/s eta 0:00:08\n",
      "   ----------- ---------------------------- 4.2/14.9 MB 1.7 MB/s eta 0:00:07\n",
      "   ------------ --------------------------- 4.7/14.9 MB 1.8 MB/s eta 0:00:06\n",
      "   -------------- ------------------------- 5.3/14.9 MB 2.0 MB/s eta 0:00:05\n",
      "   --------------- ------------------------ 5.7/14.9 MB 2.1 MB/s eta 0:00:05\n",
      "   ----------------- ---------------------- 6.3/14.9 MB 2.3 MB/s eta 0:00:04\n",
      "   ------------------ --------------------- 6.9/14.9 MB 2.5 MB/s eta 0:00:04\n",
      "   ------------------- -------------------- 7.3/14.9 MB 2.6 MB/s eta 0:00:03\n",
      "   -------------------- ------------------- 7.7/14.9 MB 2.7 MB/s eta 0:00:03\n",
      "   ---------------------- ----------------- 8.2/14.9 MB 2.8 MB/s eta 0:00:03\n",
      "   ----------------------- ---------------- 8.6/14.9 MB 2.9 MB/s eta 0:00:03\n",
      "   ------------------------ --------------- 9.0/14.9 MB 3.0 MB/s eta 0:00:02\n",
      "   -------------------------- ------------- 9.7/14.9 MB 3.2 MB/s eta 0:00:02\n",
      "   --------------------------- ------------ 10.3/14.9 MB 3.3 MB/s eta 0:00:02\n",
      "   ----------------------------- ---------- 11.0/14.9 MB 4.2 MB/s eta 0:00:01\n",
      "   ------------------------------- -------- 11.6/14.9 MB 5.5 MB/s eta 0:00:01\n",
      "   -------------------------------- ------- 12.2/14.9 MB 9.2 MB/s eta 0:00:01\n",
      "   ---------------------------------- ----- 12.7/14.9 MB 9.8 MB/s eta 0:00:01\n",
      "   ----------------------------------- ---- 13.1/14.9 MB 9.6 MB/s eta 0:00:01\n",
      "   ------------------------------------ --- 13.6/14.9 MB 9.9 MB/s eta 0:00:01\n",
      "   -------------------------------------- - 14.2/14.9 MB 10.1 MB/s eta 0:00:01\n",
      "   ---------------------------------------  14.6/14.9 MB 10.1 MB/s eta 0:00:01\n",
      "   ---------------------------------------  14.9/14.9 MB 10.1 MB/s eta 0:00:01\n",
      "   ---------------------------------------- 14.9/14.9 MB 9.6 MB/s eta 0:00:00\n",
      "Installing collected packages: numpy, opencv-python\n",
      "Successfully installed numpy-1.24.4 opencv-python-4.9.0.80\n"
     ]
    }
   ],
   "source": [
    "!pip install opencv-python"
   ]
  },
  {
   "cell_type": "code",
   "execution_count": 2,
   "metadata": {},
   "outputs": [],
   "source": [
    "# Import opencv\n",
    "import cv2 \n",
    "\n",
    "# Import uuid\n",
    "import uuid\n",
    "\n",
    "# Import Operating System\n",
    "import os\n",
    "\n",
    "# Import time\n",
    "import time"
   ]
  },
  {
   "cell_type": "markdown",
   "metadata": {},
   "source": [
    "# 1.x Testing Microscope Positioning"
   ]
  },
  {
   "cell_type": "code",
   "execution_count": 3,
   "metadata": {},
   "outputs": [
    {
     "ename": "error",
     "evalue": "OpenCV(4.9.0) D:\\a\\opencv-python\\opencv-python\\opencv\\modules\\highgui\\src\\window.cpp:971: error: (-215:Assertion failed) size.width>0 && size.height>0 in function 'cv::imshow'\n",
     "output_type": "error",
     "traceback": [
      "\u001b[1;31m---------------------------------------------------------------------------\u001b[0m",
      "\u001b[1;31merror\u001b[0m                                     Traceback (most recent call last)",
      "Cell \u001b[1;32mIn[3], line 5\u001b[0m\n\u001b[0;32m      2\u001b[0m \u001b[38;5;28;01mwhile\u001b[39;00m cap\u001b[38;5;241m.\u001b[39misOpened():\n\u001b[0;32m      3\u001b[0m     ret, frame \u001b[38;5;241m=\u001b[39m cap\u001b[38;5;241m.\u001b[39mread()\n\u001b[1;32m----> 5\u001b[0m     \u001b[43mcv2\u001b[49m\u001b[38;5;241;43m.\u001b[39;49m\u001b[43mimshow\u001b[49m\u001b[43m(\u001b[49m\u001b[38;5;124;43m'\u001b[39;49m\u001b[38;5;124;43mMicroscope feed.\u001b[39;49m\u001b[38;5;124;43m'\u001b[39;49m\u001b[43m,\u001b[49m\u001b[43m \u001b[49m\u001b[43mframe\u001b[49m\u001b[43m)\u001b[49m\n\u001b[0;32m      6\u001b[0m     \u001b[38;5;28;01mif\u001b[39;00m cv2\u001b[38;5;241m.\u001b[39mwaitKey(\u001b[38;5;241m1\u001b[39m) \u001b[38;5;241m&\u001b[39m \u001b[38;5;241m0xFF\u001b[39m \u001b[38;5;241m==\u001b[39m \u001b[38;5;28mord\u001b[39m(\u001b[38;5;124m'\u001b[39m\u001b[38;5;124mq\u001b[39m\u001b[38;5;124m'\u001b[39m):\n\u001b[0;32m      7\u001b[0m         \u001b[38;5;28;01mbreak\u001b[39;00m\n",
      "\u001b[1;31merror\u001b[0m: OpenCV(4.9.0) D:\\a\\opencv-python\\opencv-python\\opencv\\modules\\highgui\\src\\window.cpp:971: error: (-215:Assertion failed) size.width>0 && size.height>0 in function 'cv::imshow'\n"
     ]
    }
   ],
   "source": [
    "cap = cv2.VideoCapture(0)\n",
    "while cap.isOpened():\n",
    "    ret, frame = cap.read()\n",
    "\n",
    "    cv2.imshow('Microscope feed.', frame)\n",
    "    if cv2.waitKey(1) & 0xFF == ord('q'):\n",
    "        break\n",
    "cap.release()\n",
    "cv2.destroyAllWindows()"
   ]
  },
  {
   "cell_type": "markdown",
   "metadata": {},
   "source": [
    "# 2. Define Images to Collect"
   ]
  },
  {
   "cell_type": "code",
   "execution_count": 3,
   "metadata": {},
   "outputs": [],
   "source": [
    "labels = ['Burned', 'NotBurned']\n",
    "number_imgs = 10"
   ]
  },
  {
   "cell_type": "code",
   "execution_count": 4,
   "metadata": {},
   "outputs": [
    {
     "name": "stdout",
     "output_type": "stream",
     "text": [
      "['Burned', 'NotBurned']\n"
     ]
    }
   ],
   "source": [
    "print(labels)"
   ]
  },
  {
   "cell_type": "markdown",
   "metadata": {},
   "source": [
    "# 3. Setup Folders "
   ]
  },
  {
   "cell_type": "code",
   "execution_count": 7,
   "metadata": {},
   "outputs": [],
   "source": [
    "IMAGES_PATH = os.path.join('Tensorflow', 'workspace', 'images', 'collectedimages')"
   ]
  },
  {
   "cell_type": "code",
   "execution_count": 8,
   "metadata": {},
   "outputs": [],
   "source": [
    "if not os.path.exists(IMAGES_PATH):\n",
    "    if os.name == 'posix':\n",
    "        !mkdir -p {IMAGES_PATH}\n",
    "    if os.name == 'nt':\n",
    "         !mkdir {IMAGES_PATH}\n",
    "for label in labels:\n",
    "    path = os.path.join(IMAGES_PATH, label)\n",
    "    if not os.path.exists(path):\n",
    "        !mkdir {path}"
   ]
  },
  {
   "cell_type": "markdown",
   "metadata": {},
   "source": [
    "# 4. Capture Images"
   ]
  },
  {
   "cell_type": "code",
   "execution_count": 13,
   "metadata": {},
   "outputs": [
    {
     "name": "stdout",
     "output_type": "stream",
     "text": [
      "Collecting images for Burned\n",
      "Collecting image 0\n",
      "Collecting image 1\n",
      "Collecting image 2\n",
      "Collecting image 3\n",
      "Collecting image 4\n",
      "Collecting image 5\n",
      "Collecting image 6\n",
      "Collecting image 7\n",
      "Collecting image 8\n",
      "Collecting image 9\n",
      "Collecting images for NotBurned\n",
      "Collecting image 0\n",
      "Collecting image 1\n",
      "Collecting image 2\n",
      "Collecting image 3\n",
      "Collecting image 4\n",
      "Collecting image 5\n",
      "Collecting image 6\n",
      "Collecting image 7\n",
      "Collecting image 8\n",
      "Collecting image 9\n"
     ]
    }
   ],
   "source": [
    "for label in labels:\n",
    "    cap = cv2.VideoCapture(0)\n",
    "    print('Collecting images for {}'.format(label))\n",
    "    time.sleep(5)\n",
    "    for imgnum in range(number_imgs):\n",
    "        print('Collecting image {}'.format(imgnum))\n",
    "        ret, frame = cap.read()\n",
    "        imgname = os.path.join(IMAGES_PATH,label,label+'.'+'{}.jpg'.format(str(uuid.uuid1())))\n",
    "        cv2.imwrite(imgname, frame)\n",
    "        cv2.imshow('frame', frame)\n",
    "        time.sleep(2)\n",
    "\n",
    "        if cv2.waitKey(1) & 0xFF == ord('q'):\n",
    "            break\n",
    "cap.release()\n",
    "cv2.destroyAllWindows()"
   ]
  },
  {
   "cell_type": "markdown",
   "metadata": {},
   "source": [
    "# 5. Image Labelling"
   ]
  },
  {
   "cell_type": "code",
   "execution_count": 7,
   "metadata": {},
   "outputs": [
    {
     "name": "stdout",
     "output_type": "stream",
     "text": [
      "Collecting pyqt5\n",
      "  Using cached PyQt5-5.15.10-cp37-abi3-win_amd64.whl.metadata (2.2 kB)\n",
      "Collecting lxml\n",
      "  Downloading lxml-5.0.0-cp38-cp38-win_amd64.whl.metadata (6.8 kB)\n",
      "Collecting PyQt5-sip<13,>=12.13 (from pyqt5)\n",
      "  Downloading PyQt5_sip-12.13.0-cp38-cp38-win_amd64.whl.metadata (524 bytes)\n",
      "Collecting PyQt5-Qt5>=5.15.2 (from pyqt5)\n",
      "  Using cached PyQt5_Qt5-5.15.2-py3-none-win_amd64.whl (50.1 MB)\n",
      "Using cached PyQt5-5.15.10-cp37-abi3-win_amd64.whl (6.8 MB)\n",
      "Downloading lxml-5.0.0-cp38-cp38-win_amd64.whl (4.0 MB)\n",
      "   ---------------------------------------- 0.0/4.0 MB ? eta -:--:--\n",
      "   - -------------------------------------- 0.2/4.0 MB 3.5 MB/s eta 0:00:02\n",
      "   ---- ----------------------------------- 0.5/4.0 MB 6.0 MB/s eta 0:00:01\n",
      "   ------- -------------------------------- 0.7/4.0 MB 4.9 MB/s eta 0:00:01\n",
      "   ---------- ----------------------------- 1.1/4.0 MB 5.7 MB/s eta 0:00:01\n",
      "   --------------- ------------------------ 1.5/4.0 MB 6.5 MB/s eta 0:00:01\n",
      "   -------------------- ------------------- 2.0/4.0 MB 7.5 MB/s eta 0:00:01\n",
      "   ----------------------- ---------------- 2.3/4.0 MB 7.5 MB/s eta 0:00:01\n",
      "   ----------------------------- ---------- 2.9/4.0 MB 7.8 MB/s eta 0:00:01\n",
      "   --------------------------------- ------ 3.4/4.0 MB 7.8 MB/s eta 0:00:01\n",
      "   ------------------------------------- -- 3.8/4.0 MB 7.8 MB/s eta 0:00:01\n",
      "   ---------------------------------------  4.0/4.0 MB 7.8 MB/s eta 0:00:01\n",
      "   ---------------------------------------- 4.0/4.0 MB 7.5 MB/s eta 0:00:00\n",
      "Downloading PyQt5_sip-12.13.0-cp38-cp38-win_amd64.whl (78 kB)\n",
      "   ---------------------------------------- 0.0/78.3 kB ? eta -:--:--\n",
      "   ---------------------------------------- 78.3/78.3 kB ? eta 0:00:00\n",
      "Installing collected packages: PyQt5-Qt5, PyQt5-sip, lxml, pyqt5\n",
      "Successfully installed PyQt5-Qt5-5.15.2 PyQt5-sip-12.13.0 lxml-5.0.0 pyqt5-5.15.10\n"
     ]
    }
   ],
   "source": [
    "!pip install --upgrade pyqt5 lxml"
   ]
  },
  {
   "cell_type": "code",
   "execution_count": 14,
   "metadata": {},
   "outputs": [],
   "source": [
    "LABELIMG_PATH = os.path.join('Tensorflow', 'labelimg')"
   ]
  },
  {
   "cell_type": "code",
   "execution_count": 15,
   "metadata": {},
   "outputs": [],
   "source": [
    "if not os.path.exists(LABELIMG_PATH):\n",
    "    !mkdir {LABELIMG_PATH}\n",
    "    !git clone https://github.com/tzutalin/labelImg {LABELIMG_PATH}"
   ]
  },
  {
   "cell_type": "code",
   "execution_count": 16,
   "metadata": {},
   "outputs": [],
   "source": [
    "if os.name == 'posix':\n",
    "    !cd {LABELIMG_PATH} !make qt5py3\n",
    "if os.name =='nt':\n",
    "    !cd {LABELIMG_PATH} && pyrcc5 -o libs/resources.py resources.qrc"
   ]
  },
  {
   "cell_type": "code",
   "execution_count": 17,
   "metadata": {},
   "outputs": [
    {
     "name": "stdout",
     "output_type": "stream",
     "text": [
      "Image:D:\\TensorFlow Object Detection\\TFODCourse\\Tensorflow\\workspace\\images\\collectedimages\\Burned\\Burned.2b300bce-b6b6-11ee-a98c-80e82cc37894.jpg -> Annotation:D:/TensorFlow Object Detection/TFODCourse/Tensorflow/workspace/images/collectedimages/Burned\\Burned.2b300bce-b6b6-11ee-a98c-80e82cc37894.xml\n",
      "Image:D:\\TensorFlow Object Detection\\TFODCourse\\Tensorflow\\workspace\\images\\collectedimages\\Burned\\Burned.2d9dbdbc-b6b6-11ee-a162-80e82cc37894.jpg -> Annotation:D:/TensorFlow Object Detection/TFODCourse/Tensorflow/workspace/images/collectedimages/Burned\\Burned.2d9dbdbc-b6b6-11ee-a162-80e82cc37894.xml\n",
      "Image:D:\\TensorFlow Object Detection\\TFODCourse\\Tensorflow\\workspace\\images\\collectedimages\\Burned\\Burned.5b068fcd-b6b5-11ee-8e4d-80e82cc37894.jpg -> Annotation:D:/TensorFlow Object Detection/TFODCourse/Tensorflow/workspace/images/collectedimages/Burned\\Burned.5b068fcd-b6b5-11ee-8e4d-80e82cc37894.xml\n",
      "Image:D:\\TensorFlow Object Detection\\TFODCourse\\Tensorflow\\workspace\\images\\collectedimages\\Burned\\Burned.5c3d740d-b6b5-11ee-ada7-80e82cc37894.jpg -> Annotation:D:/TensorFlow Object Detection/TFODCourse/Tensorflow/workspace/images/collectedimages/Burned\\Burned.5c3d740d-b6b5-11ee-ada7-80e82cc37894.xml\n",
      "Image:D:\\TensorFlow Object Detection\\TFODCourse\\Tensorflow\\workspace\\images\\collectedimages\\Burned\\Burned.9a1fcd74-b6b5-11ee-9ba3-80e82cc37894.jpg -> Annotation:D:/TensorFlow Object Detection/TFODCourse/Tensorflow/workspace/images/collectedimages/Burned\\Burned.9a1fcd74-b6b5-11ee-9ba3-80e82cc37894.xml\n",
      "Image:D:\\TensorFlow Object Detection\\TFODCourse\\Tensorflow\\workspace\\images\\collectedimages\\Burned\\Burned.28c14670-b6b6-11ee-a441-80e82cc37894.jpg -> Annotation:D:/TensorFlow Object Detection/TFODCourse/Tensorflow/workspace/images/collectedimages/Burned\\Burned.28c14670-b6b6-11ee-a441-80e82cc37894.xml\n",
      "Image:D:\\TensorFlow Object Detection\\TFODCourse\\Tensorflow\\workspace\\images\\collectedimages\\Burned\\Burned.54ea544d-b6b5-11ee-9ef7-80e82cc37894.jpg -> Annotation:D:/TensorFlow Object Detection/TFODCourse/Tensorflow/workspace/images/collectedimages/Burned\\Burned.54ea544d-b6b5-11ee-9ef7-80e82cc37894.xml\n",
      "Image:D:\\TensorFlow Object Detection\\TFODCourse\\Tensorflow\\workspace\\images\\collectedimages\\Burned\\Burned.59ce5742-b6b5-11ee-a26e-80e82cc37894.jpg -> Annotation:D:/TensorFlow Object Detection/TFODCourse/Tensorflow/workspace/images/collectedimages/Burned\\Burned.59ce5742-b6b5-11ee-a26e-80e82cc37894.xml\n",
      "Image:D:\\TensorFlow Object Detection\\TFODCourse\\Tensorflow\\workspace\\images\\collectedimages\\Burned\\Burned.97b16384-b6b5-11ee-957c-80e82cc37894.jpg -> Annotation:D:/TensorFlow Object Detection/TFODCourse/Tensorflow/workspace/images/collectedimages/Burned\\Burned.97b16384-b6b5-11ee-957c-80e82cc37894.xml\n",
      "Image:D:\\TensorFlow Object Detection\\TFODCourse\\Tensorflow\\workspace\\images\\collectedimages\\Burned\\Burned.251da3fc-b6b6-11ee-8343-80e82cc37894.jpg -> Annotation:D:/TensorFlow Object Detection/TFODCourse/Tensorflow/workspace/images/collectedimages/Burned\\Burned.251da3fc-b6b6-11ee-8343-80e82cc37894.xml\n",
      "Image:D:\\TensorFlow Object Detection\\TFODCourse\\Tensorflow\\workspace\\images\\collectedimages\\Burned\\Burned.278a68ef-b6b6-11ee-9439-80e82cc37894.jpg -> Annotation:D:/TensorFlow Object Detection/TFODCourse/Tensorflow/workspace/images/collectedimages/Burned\\Burned.278a68ef-b6b6-11ee-9439-80e82cc37894.xml\n",
      "Image:D:\\TensorFlow Object Detection\\TFODCourse\\Tensorflow\\workspace\\images\\collectedimages\\Burned\\Burned.575e32b7-b6b5-11ee-a95b-80e82cc37894.jpg -> Annotation:D:/TensorFlow Object Detection/TFODCourse/Tensorflow/workspace/images/collectedimages/Burned\\Burned.575e32b7-b6b5-11ee-a95b-80e82cc37894.xml\n",
      "Image:D:\\TensorFlow Object Detection\\TFODCourse\\Tensorflow\\workspace\\images\\collectedimages\\Burned\\Burned.967a92bc-b6b5-11ee-8ea4-80e82cc37894.jpg -> Annotation:D:/TensorFlow Object Detection/TFODCourse/Tensorflow/workspace/images/collectedimages/Burned\\Burned.967a92bc-b6b5-11ee-8ea4-80e82cc37894.xml\n",
      "Image:D:\\TensorFlow Object Detection\\TFODCourse\\Tensorflow\\workspace\\images\\collectedimages\\Burned\\Burned.5396acfe-b6b5-11ee-bebf-80e82cc37894.jpg -> Annotation:D:/TensorFlow Object Detection/TFODCourse/Tensorflow/workspace/images/collectedimages/Burned\\Burned.5396acfe-b6b5-11ee-bebf-80e82cc37894.xml\n",
      "Image:D:\\TensorFlow Object Detection\\TFODCourse\\Tensorflow\\workspace\\images\\collectedimages\\Burned\\Burned.58980a1c-b6b5-11ee-b48a-80e82cc37894.jpg -> Annotation:D:/TensorFlow Object Detection/TFODCourse/Tensorflow/workspace/images/collectedimages/Burned\\Burned.58980a1c-b6b5-11ee-b48a-80e82cc37894.xml\n",
      "Image:D:\\TensorFlow Object Detection\\TFODCourse\\Tensorflow\\workspace\\images\\collectedimages\\Burned\\Burned.072069ad-b6b6-11ee-b4e2-80e82cc37894.jpg -> Annotation:D:/TensorFlow Object Detection/TFODCourse/Tensorflow/workspace/images/collectedimages/Burned\\Burned.072069ad-b6b6-11ee-b4e2-80e82cc37894.xml\n",
      "Image:D:\\TensorFlow Object Detection\\TFODCourse\\Tensorflow\\workspace\\images\\collectedimages\\Burned\\Burned.deb95357-b6b5-11ee-b551-80e82cc37894.jpg -> Annotation:D:/TensorFlow Object Detection/TFODCourse/Tensorflow/workspace/images/collectedimages/Burned\\Burned.deb95357-b6b5-11ee-b551-80e82cc37894.xml\n",
      "Image:D:\\TensorFlow Object Detection\\TFODCourse\\Tensorflow\\workspace\\images\\collectedimages\\Burned\\Burned.e12edbc7-b6b5-11ee-b506-80e82cc37894.jpg -> Annotation:D:/TensorFlow Object Detection/TFODCourse/Tensorflow/workspace/images/collectedimages/Burned\\Burned.e12edbc7-b6b5-11ee-b506-80e82cc37894.xml\n",
      "Image:D:\\TensorFlow Object Detection\\TFODCourse\\Tensorflow\\workspace\\images\\collectedimages\\Burned\\Burned.e39ea57d-b6b5-11ee-822c-80e82cc37894.jpg -> Annotation:D:/TensorFlow Object Detection/TFODCourse/Tensorflow/workspace/images/collectedimages/Burned\\Burned.e39ea57d-b6b5-11ee-822c-80e82cc37894.xml\n",
      "Image:D:\\TensorFlow Object Detection\\TFODCourse\\Tensorflow\\workspace\\images\\collectedimages\\Burned\\Burned.e266a082-b6b5-11ee-9d12-80e82cc37894.jpg -> Annotation:D:/TensorFlow Object Detection/TFODCourse/Tensorflow/workspace/images/collectedimages/Burned\\Burned.e266a082-b6b5-11ee-9d12-80e82cc37894.xml\n",
      "Image:D:\\TensorFlow Object Detection\\TFODCourse\\Tensorflow\\workspace\\images\\collectedimages\\Burned\\Burned.e609eafd-b6b5-11ee-bc58-80e82cc37894.jpg -> Annotation:D:/TensorFlow Object Detection/TFODCourse/Tensorflow/workspace/images/collectedimages/Burned\\Burned.e609eafd-b6b5-11ee-bc58-80e82cc37894.xml\n",
      "Image:D:\\TensorFlow Object Detection\\TFODCourse\\Tensorflow\\workspace\\images\\collectedimages\\NotBurned\\NotBurned.1be159fc-b6b6-11ee-9f5d-80e82cc37894.jpg -> Annotation:D:/TensorFlow Object Detection/TFODCourse/Tensorflow/workspace/images/collectedimages/NotBurned\\NotBurned.1be159fc-b6b6-11ee-9f5d-80e82cc37894.xml\n",
      "Image:D:\\TensorFlow Object Detection\\TFODCourse\\Tensorflow\\workspace\\images\\collectedimages\\NotBurned\\NotBurned.3b13dd14-b6b6-11ee-ac69-80e82cc37894.jpg -> Annotation:D:/TensorFlow Object Detection/TFODCourse/Tensorflow/workspace/images/collectedimages/NotBurned\\NotBurned.3b13dd14-b6b6-11ee-ac69-80e82cc37894.xml\n",
      "Image:D:\\TensorFlow Object Detection\\TFODCourse\\Tensorflow\\workspace\\images\\collectedimages\\NotBurned\\NotBurned.3c4cf73f-b6b6-11ee-86ae-80e82cc37894.jpg -> Annotation:D:/TensorFlow Object Detection/TFODCourse/Tensorflow/workspace/images/collectedimages/NotBurned\\NotBurned.3c4cf73f-b6b6-11ee-86ae-80e82cc37894.xml\n",
      "Image:D:\\TensorFlow Object Detection\\TFODCourse\\Tensorflow\\workspace\\images\\collectedimages\\NotBurned\\NotBurned.3d856091-b6b6-11ee-b195-80e82cc37894.jpg -> Annotation:D:/TensorFlow Object Detection/TFODCourse/Tensorflow/workspace/images/collectedimages/NotBurned\\NotBurned.3d856091-b6b6-11ee-b195-80e82cc37894.xml\n",
      "Image:D:\\TensorFlow Object Detection\\TFODCourse\\Tensorflow\\workspace\\images\\collectedimages\\NotBurned\\NotBurned.15cd332b-b6b6-11ee-a124-80e82cc37894.jpg -> Annotation:D:/TensorFlow Object Detection/TFODCourse/Tensorflow/workspace/images/collectedimages/NotBurned\\NotBurned.15cd332b-b6b6-11ee-a124-80e82cc37894.xml\n",
      "Image:D:\\TensorFlow Object Detection\\TFODCourse\\Tensorflow\\workspace\\images\\collectedimages\\NotBurned\\NotBurned.33cd289a-b6b6-11ee-868c-80e82cc37894.jpg -> Annotation:D:/TensorFlow Object Detection/TFODCourse/Tensorflow/workspace/images/collectedimages/NotBurned\\NotBurned.33cd289a-b6b6-11ee-868c-80e82cc37894.xml\n",
      "Image:D:\\TensorFlow Object Detection\\TFODCourse\\Tensorflow\\workspace\\images\\collectedimages\\NotBurned\\NotBurned.39de07ec-b6b6-11ee-bf08-80e82cc37894.jpg -> Annotation:D:/TensorFlow Object Detection/TFODCourse/Tensorflow/workspace/images/collectedimages/NotBurned\\NotBurned.39de07ec-b6b6-11ee-bf08-80e82cc37894.xml\n",
      "Image:D:\\TensorFlow Object Detection\\TFODCourse\\Tensorflow\\workspace\\images\\collectedimages\\NotBurned\\NotBurned.183c2c55-b6b6-11ee-b718-80e82cc37894.jpg -> Annotation:D:/TensorFlow Object Detection/TFODCourse/Tensorflow/workspace/images/collectedimages/NotBurned\\NotBurned.183c2c55-b6b6-11ee-b718-80e82cc37894.xml\n",
      "Image:D:\\TensorFlow Object Detection\\TFODCourse\\Tensorflow\\workspace\\images\\collectedimages\\NotBurned\\NotBurned.3296ace1-b6b6-11ee-ac5b-80e82cc37894.jpg -> Annotation:D:/TensorFlow Object Detection/TFODCourse/Tensorflow/workspace/images/collectedimages/NotBurned\\NotBurned.3296ace1-b6b6-11ee-ac5b-80e82cc37894.xml\n",
      "Image:D:\\TensorFlow Object Detection\\TFODCourse\\Tensorflow\\workspace\\images\\collectedimages\\NotBurned\\NotBurned.3503cde4-b6b6-11ee-929c-80e82cc37894.jpg -> Annotation:D:/TensorFlow Object Detection/TFODCourse/Tensorflow/workspace/images/collectedimages/NotBurned\\NotBurned.3503cde4-b6b6-11ee-929c-80e82cc37894.xml\n",
      "Image:D:\\TensorFlow Object Detection\\TFODCourse\\Tensorflow\\workspace\\images\\collectedimages\\NotBurned\\NotBurned.3638ee28-b6b6-11ee-8b03-80e82cc37894.jpg -> Annotation:D:/TensorFlow Object Detection/TFODCourse/Tensorflow/workspace/images/collectedimages/NotBurned\\NotBurned.3638ee28-b6b6-11ee-8b03-80e82cc37894.xml\n",
      "Image:D:\\TensorFlow Object Detection\\TFODCourse\\Tensorflow\\workspace\\images\\collectedimages\\NotBurned\\NotBurned.14944d45-b6b6-11ee-89fa-80e82cc37894.jpg -> Annotation:D:/TensorFlow Object Detection/TFODCourse/Tensorflow/workspace/images/collectedimages/NotBurned\\NotBurned.14944d45-b6b6-11ee-89fa-80e82cc37894.xml\n",
      "Image:D:\\TensorFlow Object Detection\\TFODCourse\\Tensorflow\\workspace\\images\\collectedimages\\NotBurned\\NotBurned.17048ff3-b6b6-11ee-aa3c-80e82cc37894.jpg -> Annotation:D:/TensorFlow Object Detection/TFODCourse/Tensorflow/workspace/images/collectedimages/NotBurned\\NotBurned.17048ff3-b6b6-11ee-aa3c-80e82cc37894.xml\n",
      "Image:D:\\TensorFlow Object Detection\\TFODCourse\\Tensorflow\\workspace\\images\\collectedimages\\NotBurned\\NotBurned.377071f2-b6b6-11ee-b318-80e82cc37894.jpg -> Annotation:D:/TensorFlow Object Detection/TFODCourse/Tensorflow/workspace/images/collectedimages/NotBurned\\NotBurned.377071f2-b6b6-11ee-b318-80e82cc37894.xml\n",
      "Image:D:\\TensorFlow Object Detection\\TFODCourse\\Tensorflow\\workspace\\images\\collectedimages\\NotBurned\\NotBurned.eea4a956-b6b5-11ee-87c3-80e82cc37894.jpg -> Annotation:D:/TensorFlow Object Detection/TFODCourse/Tensorflow/workspace/images/collectedimages/NotBurned\\NotBurned.eea4a956-b6b5-11ee-87c3-80e82cc37894.xml\n",
      "Image:D:\\TensorFlow Object Detection\\TFODCourse\\Tensorflow\\workspace\\images\\collectedimages\\NotBurned\\NotBurned.efdbf6de-b6b5-11ee-af99-80e82cc37894.jpg -> Annotation:D:/TensorFlow Object Detection/TFODCourse/Tensorflow/workspace/images/collectedimages/NotBurned\\NotBurned.efdbf6de-b6b5-11ee-af99-80e82cc37894.xml\n",
      "Image:D:\\TensorFlow Object Detection\\TFODCourse\\Tensorflow\\workspace\\images\\collectedimages\\NotBurned\\NotBurned.f4b54521-b6b5-11ee-8304-80e82cc37894.jpg -> Annotation:D:/TensorFlow Object Detection/TFODCourse/Tensorflow/workspace/images/collectedimages/NotBurned\\NotBurned.f4b54521-b6b5-11ee-8304-80e82cc37894.xml\n",
      "Image:D:\\TensorFlow Object Detection\\TFODCourse\\Tensorflow\\workspace\\images\\collectedimages\\NotBurned\\NotBurned.f5ec8937-b6b5-11ee-bcc0-80e82cc37894.jpg -> Annotation:D:/TensorFlow Object Detection/TFODCourse/Tensorflow/workspace/images/collectedimages/NotBurned\\NotBurned.f5ec8937-b6b5-11ee-bcc0-80e82cc37894.xml\n",
      "Image:D:\\TensorFlow Object Detection\\TFODCourse\\Tensorflow\\workspace\\images\\collectedimages\\NotBurned\\NotBurned.f114d3ad-b6b5-11ee-aae5-80e82cc37894.jpg -> Annotation:D:/TensorFlow Object Detection/TFODCourse/Tensorflow/workspace/images/collectedimages/NotBurned\\NotBurned.f114d3ad-b6b5-11ee-aae5-80e82cc37894.xml\n",
      "Image:D:\\TensorFlow Object Detection\\TFODCourse\\Tensorflow\\workspace\\images\\collectedimages\\NotBurned\\NotBurned.f2490b1e-b6b5-11ee-ad6f-80e82cc37894.jpg -> Annotation:D:/TensorFlow Object Detection/TFODCourse/Tensorflow/workspace/images/collectedimages/NotBurned\\NotBurned.f2490b1e-b6b5-11ee-ad6f-80e82cc37894.xml\n",
      "Image:D:\\TensorFlow Object Detection\\TFODCourse\\Tensorflow\\workspace\\images\\collectedimages\\NotBurned\\NotBurned.f3811d47-b6b5-11ee-9e71-80e82cc37894.jpg -> Annotation:D:/TensorFlow Object Detection/TFODCourse/Tensorflow/workspace/images/collectedimages/NotBurned\\NotBurned.f3811d47-b6b5-11ee-9e71-80e82cc37894.xml\n"
     ]
    }
   ],
   "source": [
    "!cd {LABELIMG_PATH} && python labelImg.py"
   ]
  },
  {
   "cell_type": "markdown",
   "metadata": {},
   "source": [
    "# 6. Move them into a Training and Testing Partition"
   ]
  },
  {
   "cell_type": "markdown",
   "metadata": {},
   "source": [
    "# OPTIONAL - 7. Compress them for Colab Training"
   ]
  },
  {
   "cell_type": "code",
   "execution_count": 10,
   "metadata": {},
   "outputs": [],
   "source": [
    "TRAIN_PATH = os.path.join('Tensorflow', 'workspace', 'images', 'train')\n",
    "TEST_PATH = os.path.join('Tensorflow', 'workspace', 'images', 'test')\n",
    "ARCHIVE_PATH = os.path.join('Tensorflow', 'workspace', 'images', 'archive.tar.gz')"
   ]
  },
  {
   "cell_type": "code",
   "execution_count": 11,
   "metadata": {},
   "outputs": [],
   "source": [
    "!tar -czf {ARCHIVE_PATH} {TRAIN_PATH} {TEST_PATH}"
   ]
  },
  {
   "cell_type": "code",
   "execution_count": null,
   "metadata": {},
   "outputs": [],
   "source": []
  }
 ],
 "metadata": {
  "kernelspec": {
   "display_name": "tfod",
   "language": "python",
   "name": "tfod"
  },
  "language_info": {
   "codemirror_mode": {
    "name": "ipython",
    "version": 3
   },
   "file_extension": ".py",
   "mimetype": "text/x-python",
   "name": "python",
   "nbconvert_exporter": "python",
   "pygments_lexer": "ipython3",
   "version": "3.8.10"
  }
 },
 "nbformat": 4,
 "nbformat_minor": 4
}
